{
 "cells": [
  {
   "cell_type": "code",
   "execution_count": 19,
   "metadata": {},
   "outputs": [
    {
     "name": "stdout",
     "output_type": "stream",
     "text": [
      "Train dataset size: \n",
      "train_emoticon_X: 7080 train_emoticon_Y: 7080\n",
      "\n",
      "Test dataset size: \n",
      "test_emoticon_X: 2232\n"
     ]
    }
   ],
   "source": [
    "import pandas as pd\n",
    "import numpy as np\n",
    "\n",
    "# read emoticon dataset\n",
    "train_emoticon_df = pd.read_csv(\"datasets/train/train_emoticon.csv\")\n",
    "train_emoticon_X = train_emoticon_df['input_emoticon'].tolist()\n",
    "train_emoticon_Y = train_emoticon_df['label'].tolist()\n",
    "\n",
    "test_emoticon_X = pd.read_csv(\"datasets/test/test_emoticon.csv\")['input_emoticon'].tolist()\n",
    "\n",
    "test_feat_X = np.load(\"datasets/test/test_feature.npz\", allow_pickle=True)['features']\n",
    "\n",
    "\n",
    "print(f\"Train dataset size: \")\n",
    "print(f\"train_emoticon_X: {len(train_emoticon_X)} train_emoticon_Y: {len(train_emoticon_Y)}\")\n",
    "\n",
    "\n",
    "print()\n",
    "print(\"Test dataset size: \")\n",
    "print(f\"test_emoticon_X: {len(test_emoticon_X)}\")\n"
   ]
  },
  {
   "cell_type": "code",
   "execution_count": 20,
   "metadata": {},
   "outputs": [
    {
     "name": "stdout",
     "output_type": "stream",
     "text": [
      "Validation dataset size: \n",
      "valid_emoticon_X: 489 valid_emoticon_Y: 489\n",
      "\n",
      "Test dataset size: \n",
      "test_emoticon_X: 2232\n"
     ]
    }
   ],
   "source": [
    "import pandas as pd\n",
    "import numpy as np\n",
    "\n",
    "# Read emoticon dataset\n",
    "valid_emoticon_df = pd.read_csv(\"datasets/valid/valid_emoticon.csv\")\n",
    "valid_emoticon_X = valid_emoticon_df['input_emoticon'].tolist()\n",
    "valid_emoticon_Y = valid_emoticon_df['label'].tolist()\n",
    "\n",
    "test_emoticon_X = pd.read_csv(\"datasets/test/test_emoticon.csv\")['input_emoticon'].tolist()\n",
    "\n",
    "\n",
    "print(f\"Validation dataset size: \")\n",
    "print(f\"valid_emoticon_X: {len(valid_emoticon_X)} valid_emoticon_Y: {len(valid_emoticon_Y)}\")\n",
    "\n",
    "\n",
    "print()\n",
    "print(\"Test dataset size: \")\n",
    "print(f\"test_emoticon_X: {len(test_emoticon_X)}\")\n",
    "\n"
   ]
  },
  {
   "cell_type": "code",
   "execution_count": 21,
   "metadata": {},
   "outputs": [
    {
     "name": "stdout",
     "output_type": "stream",
     "text": [
      "\n",
      "Sample Encoded Train Emoticon Data:  [[2 9 4 0 3 5 6 8 1 7 0 6 3]\n",
      " [9 0 3 1 8 5 2 7 0 5 4 2 6]]\n",
      "Sample Encoded Test Emoticon Data:  [array([ 9,  2,  0,  4,  8, -1, -1,  1,  5,  4, -1,  0,  2]), array([ 2, -1,  9, -1,  1,  4,  8,  0,  5,  2, -1,  0,  4])]\n"
     ]
    }
   ],
   "source": [
    "from sklearn.preprocessing import LabelEncoder\n",
    "# 4. Label Encoding for Emoticon Dataset\n",
    "# Flatten emoticons (split each string into individual characters)\n",
    "train_emoticon_X_flattened = [list(emoticon) for emoticon in train_emoticon_X]\n",
    "test_emoticon_X_flattened = [list(emoticon) for emoticon in test_emoticon_X]\n",
    "\n",
    "# Initialize label encoder\n",
    "label_encoder = LabelEncoder()\n",
    "\n",
    "# Encode each emoticon character into integers for training data\n",
    "train_emoticon_X_encoded = [label_encoder.fit_transform(emoticon) for emoticon in train_emoticon_X_flattened]\n",
    "def safe_transform(emoticon, label_encoder):\n",
    "    # Get the classes learned by the LabelEncoder\n",
    "    known_classes = set(label_encoder.classes_)\n",
    "    \n",
    "    # Return transformed values, and map unseen labels to -1\n",
    "    return np.array([label_encoder.transform([char])[0] if char in known_classes else -1 for char in emoticon])\n",
    "\n",
    "# Apply safe transformation on the test data\n",
    "test_emoticon_X_encoded = [safe_transform(emoticon, label_encoder) for emoticon in test_emoticon_X_flattened]\n",
    "# Convert to NumPy arrays for model training\n",
    "train_emoticon_X_encoded = np.array(train_emoticon_X_encoded)\n",
    "# test_emoticon_X_encoded = np.array(test_emoticon_X_encoded)\n",
    "\n",
    "# Verify that the emoticon data is encoded\n",
    "print(\"\\nSample Encoded Train Emoticon Data: \", train_emoticon_X_encoded[:2])\n",
    "print(\"Sample Encoded Test Emoticon Data: \", test_emoticon_X_encoded[:2])\n",
    "\n",
    "# Now, your datasets `train_emoticon_X_encoded`, `train_seq_X`, and `train_feat_X` are ready for training models."
   ]
  },
  {
   "cell_type": "code",
   "execution_count": 22,
   "metadata": {},
   "outputs": [
    {
     "name": "stdout",
     "output_type": "stream",
     "text": [
      "\n",
      "Sample Encoded Valid Emoticon Data:  [[8 2 1 0 3 7 4 9 5 0 3 4 6]\n",
      " [9 3 4 2 6 5 1 8 1 5 3 7 0]]\n",
      "Sample Encoded Test Emoticon Data:  [array([ 9,  4,  2,  5,  8, -1, -1,  3,  6,  5, -1,  2,  4]), array([ 4, -1,  9, -1,  3,  5,  8,  2,  6,  4, -1,  2,  5])]\n"
     ]
    }
   ],
   "source": [
    "from sklearn.preprocessing import LabelEncoder\n",
    "import numpy as np\n",
    "\n",
    "# 4. Label Encoding for Emoticon Dataset\n",
    "# Flatten emoticons (split each string into individual characters)\n",
    "valid_emoticon_X_flattened = [list(emoticon) for emoticon in valid_emoticon_X]\n",
    "\n",
    "# Initialize label encoder\n",
    "label_encoder = LabelEncoder()\n",
    "\n",
    "# Encode each emoticon character into integers for training data\n",
    "valid_emoticon_X_encoded = [label_encoder.fit_transform(emoticon) for emoticon in valid_emoticon_X_flattened]\n",
    "\n",
    "def safe_transform(emoticon, label_encoder):\n",
    "    # Get the classes learned by the LabelEncoder\n",
    "    known_classes = set(label_encoder.classes_)\n",
    "    \n",
    "    # Return transformed values, and map unseen labels to -1\n",
    "    return np.array([label_encoder.transform([char])[0] if char in known_classes else -1 for char in emoticon])\n",
    "\n",
    "# Apply safe transformation on the test data\n",
    "test_emoticon_X_encoded = [safe_transform(emoticon, label_encoder) for emoticon in test_emoticon_X_flattened]\n",
    "\n",
    "# Convert to NumPy arrays for model training\n",
    "valid_emoticon_X_encoded = np.array(valid_emoticon_X_encoded)\n",
    "\n",
    "# Verify that the emoticon data is encoded\n",
    "print(\"\\nSample Encoded Valid Emoticon Data: \", valid_emoticon_X_encoded[:2])\n",
    "print(\"Sample Encoded Test Emoticon Data: \", test_emoticon_X_encoded[:2])\n",
    "\n",
    "# Now, your datasets `valid_emoticon_X_encoded`, `valid_seq_X`, and `valid_feat_X` are ready for training models.\n"
   ]
  },
  {
   "cell_type": "code",
   "execution_count": 23,
   "metadata": {},
   "outputs": [],
   "source": [
    "# from sklearn.feature_extraction.text import TfidfVectorizer\n",
    "\n",
    "# # Initialize the TF-IDF vectorizer\n",
    "# tfidf_vectorizer = TfidfVectorizer(max_features=400)  # max_features limits the number of features\n",
    "\n",
    "# # Fit and transform on the training text sequences\n",
    "# train_seq_X_tfidf = tfidf_vectorizer.fit_transform(train_seq_X).toarray()\n",
    "\n",
    "# # Transform the test text sequences\n",
    "# test_seq_X_tfidf = tfidf_vectorizer.transform(test_seq_X).toarray()\n",
    "\n",
    "# print(f\"TF-IDF train shape: {train_seq_X_tfidf.shape}\")\n",
    "# print(f\"TF-IDF test shape: {test_seq_X_tfidf.shape}\")\n"
   ]
  },
  {
   "cell_type": "code",
   "execution_count": 24,
   "metadata": {},
   "outputs": [],
   "source": [
    "# from sklearn.feature_extraction.text import TfidfVectorizer\n",
    "\n",
    "# # Initialize the TF-IDF vectorizer\n",
    "# tfidf_vectorizer = TfidfVectorizer(max_features=500)  # max_features limits the number of features\n",
    "\n",
    "# Fit and transform on the training text sequences\n",
    "# valid_seq_X_tfidf = tfidf_vectorizer.fit_transform(valid_seq_X).toarray()\n",
    "\n",
    "\n",
    "\n",
    "# print(f\"TF-IDF valid shape: {valid_seq_X_tfidf.shape}\")\n",
    "# print(f\"TF-IDF test shape: {test_seq_X_tfidf.shape}\")\n"
   ]
  },
  {
   "cell_type": "code",
   "execution_count": 25,
   "metadata": {},
   "outputs": [],
   "source": [
    "# train_feat_X_flattened = train_feat_X.reshape(train_feat_X.shape[0], -1)  # Shape will be (7080, 13 * 768)\n",
    "# test_feat_X_flattened = test_feat_X.reshape(test_feat_X.shape[0], -1)  # Adjust for test set\n"
   ]
  },
  {
   "cell_type": "code",
   "execution_count": 26,
   "metadata": {},
   "outputs": [],
   "source": [
    "# valid_feat_X_flattened = valid_feat_X.reshape(valid_feat_X.shape[0], -1) "
   ]
  },
  {
   "cell_type": "code",
   "execution_count": 27,
   "metadata": {},
   "outputs": [
    {
     "name": "stdout",
     "output_type": "stream",
     "text": [
      "train_emoticon_X_encoded shape: (7080, 13)\n",
      "valid_emoticon_X_encoded shape: (489, 13)\n"
     ]
    }
   ],
   "source": [
    "print(f\"train_emoticon_X_encoded shape: {train_emoticon_X_encoded.shape}\")\n",
    "# print(f\"train_seq_X_tfidf shape: {train_seq_X_tfidf.shape}\")\n",
    "# print(f\"train_feat_X shape: {train_feat_X.shape}\")\n",
    "print(f\"valid_emoticon_X_encoded shape: {valid_emoticon_X_encoded.shape}\")\n",
    "# print(f\"valid_seq_X_tfidf shape: {valid_seq_X_tfidf.shape}\")\n",
    "# print(f\"valid_feat_X shape: {valid_feat_X.shape}\")"
   ]
  },
  {
   "cell_type": "code",
   "execution_count": 28,
   "metadata": {},
   "outputs": [
    {
     "name": "stdout",
     "output_type": "stream",
     "text": [
      "Emoticon training data shape: (7080, 13)\n",
      "Emoticon valid data shape: (489, 13)\n"
     ]
    }
   ],
   "source": [
    "print(f\"Emoticon training data shape: {train_emoticon_X_encoded.shape}\")\n",
    "# print(f\"Sequence training data shape: {train_seq_X_tfidf.shape}\")\n",
    "# print(f\"Feature training data shape: {train_feat_X_flattened.shape}\")\n",
    "print(f\"Emoticon valid data shape: {valid_emoticon_X_encoded.shape}\")\n",
    "# print(f\"Sequence valid data shape: {valid_seq_X_tfidf.shape}\")\n",
    "# print(f\"Feature valid data shape: {valid_feat_X_flattened.shape}\")\n"
   ]
  },
  {
   "cell_type": "code",
   "execution_count": 29,
   "metadata": {},
   "outputs": [],
   "source": [
    "# Combine all features for training\n",
    "# train_X_combined = np.hstack([train_emoticon_X_encoded, train_seq_X_tfidf, train_feat_X_flattened])\n",
    "\n",
    "# # Combine all features for testing\n",
    "# test_X_combined = np.hstack([test_emoticon_X_encoded, test_seq_X_tfidf, test_feat_X_flattened])\n",
    "\n",
    "# print(f\"Combined train shape: {train_X_combined.shape}\")  # Should be (7080, 10497)\n",
    "# print(f\"Combined test shape: {test_X_combined.shape}\")\n",
    "train_X_combined=train_emoticon_X_encoded\n"
   ]
  },
  {
   "cell_type": "code",
   "execution_count": 30,
   "metadata": {},
   "outputs": [
    {
     "name": "stdout",
     "output_type": "stream",
     "text": [
      "Combined valid shape: (489, 13)\n"
     ]
    }
   ],
   "source": [
    "# valid_X_combined = np.hstack([valid_emoticon_X_encoded, valid_seq_X_tfidf, valid_feat_X_flattened])\n",
    "valid_X_combined = valid_emoticon_X_encoded\n",
    "print(f\"Combined valid shape: {valid_X_combined.shape}\") "
   ]
  },
  {
   "cell_type": "code",
   "execution_count": 31,
   "metadata": {},
   "outputs": [
    {
     "name": "stdout",
     "output_type": "stream",
     "text": [
      "7080\n",
      "489\n"
     ]
    }
   ],
   "source": [
    "print(len(train_emoticon_Y))\n",
    "# print(len(train_feat_Y))\n",
    "print(len(valid_emoticon_Y))\n",
    "# print(len(valid_feat_Y))"
   ]
  },
  {
   "cell_type": "code",
   "execution_count": 32,
   "metadata": {},
   "outputs": [
    {
     "name": "stdout",
     "output_type": "stream",
     "text": [
      "Train combined shape: (7080, 13)\n",
      "Valid combined shape: (489, 13)\n"
     ]
    }
   ],
   "source": [
    "print(f\"Train combined shape: {train_X_combined.shape}\")\n",
    "print(f\"Valid combined shape: {valid_X_combined.shape}\")\n"
   ]
  },
  {
   "cell_type": "code",
   "execution_count": 33,
   "metadata": {},
   "outputs": [],
   "source": [
    "test_emoticon_df = pd.read_csv(\"datasets/test/test_emoticon.csv\")\n",
    "# test_emoticon_Y= test_emoticon_df['label'].tolist()\n"
   ]
  },
  {
   "cell_type": "code",
   "execution_count": 46,
   "metadata": {},
   "outputs": [
    {
     "name": "stdout",
     "output_type": "stream",
     "text": [
      "k=1, C=0.1, kernel=linear - Validation Accuracy: 50.51%\n",
      "k=1, C=0.1, kernel=rbf - Validation Accuracy: 48.88%\n",
      "k=1, C=0.1, kernel=poly - Validation Accuracy: 50.72%\n",
      "k=1, C=1, kernel=linear - Validation Accuracy: 50.51%\n",
      "k=1, C=1, kernel=rbf - Validation Accuracy: 48.88%\n",
      "k=1, C=1, kernel=poly - Validation Accuracy: 50.72%\n",
      "k=1, C=10, kernel=linear - Validation Accuracy: 50.51%\n",
      "k=1, C=10, kernel=rbf - Validation Accuracy: 48.88%\n",
      "k=1, C=10, kernel=poly - Validation Accuracy: 50.72%\n",
      "k=3, C=0.1, kernel=linear - Validation Accuracy: 49.08%\n",
      "k=3, C=0.1, kernel=rbf - Validation Accuracy: 53.58%\n",
      "k=3, C=0.1, kernel=poly - Validation Accuracy: 51.74%\n",
      "k=3, C=1, kernel=linear - Validation Accuracy: 49.08%\n",
      "k=3, C=1, kernel=rbf - Validation Accuracy: 53.58%\n",
      "k=3, C=1, kernel=poly - Validation Accuracy: 51.94%\n",
      "k=3, C=10, kernel=linear - Validation Accuracy: 49.28%\n",
      "k=3, C=10, kernel=rbf - Validation Accuracy: 52.56%\n",
      "k=3, C=10, kernel=poly - Validation Accuracy: 51.94%\n",
      "k=5, C=0.1, kernel=linear - Validation Accuracy: 50.72%\n",
      "k=5, C=0.1, kernel=rbf - Validation Accuracy: 55.42%\n",
      "k=5, C=0.1, kernel=poly - Validation Accuracy: 52.97%\n",
      "k=5, C=1, kernel=linear - Validation Accuracy: 50.72%\n",
      "k=5, C=1, kernel=rbf - Validation Accuracy: 55.21%\n",
      "k=5, C=1, kernel=poly - Validation Accuracy: 52.76%\n",
      "k=5, C=10, kernel=linear - Validation Accuracy: 50.72%\n",
      "k=5, C=10, kernel=rbf - Validation Accuracy: 57.26%\n",
      "k=5, C=10, kernel=poly - Validation Accuracy: 52.76%\n",
      "k=7, C=0.1, kernel=linear - Validation Accuracy: 52.76%\n",
      "k=7, C=0.1, kernel=rbf - Validation Accuracy: 53.37%\n",
      "k=7, C=0.1, kernel=poly - Validation Accuracy: 52.97%\n",
      "k=7, C=1, kernel=linear - Validation Accuracy: 52.97%\n",
      "k=7, C=1, kernel=rbf - Validation Accuracy: 54.40%\n",
      "k=7, C=1, kernel=poly - Validation Accuracy: 52.97%\n",
      "k=7, C=10, kernel=linear - Validation Accuracy: 52.97%\n",
      "k=7, C=10, kernel=rbf - Validation Accuracy: 56.65%\n",
      "k=7, C=10, kernel=poly - Validation Accuracy: 53.17%\n",
      "k=9, C=0.1, kernel=linear - Validation Accuracy: 51.94%\n",
      "k=9, C=0.1, kernel=rbf - Validation Accuracy: 53.78%\n",
      "k=9, C=0.1, kernel=poly - Validation Accuracy: 52.97%\n",
      "k=9, C=1, kernel=linear - Validation Accuracy: 52.15%\n",
      "k=9, C=1, kernel=rbf - Validation Accuracy: 54.60%\n",
      "k=9, C=1, kernel=poly - Validation Accuracy: 55.62%\n",
      "k=9, C=10, kernel=linear - Validation Accuracy: 52.35%\n",
      "k=9, C=10, kernel=rbf - Validation Accuracy: 52.76%\n",
      "k=9, C=10, kernel=poly - Validation Accuracy: 55.21%\n",
      "k=11, C=0.1, kernel=linear - Validation Accuracy: 53.78%\n",
      "k=11, C=0.1, kernel=rbf - Validation Accuracy: 53.78%\n",
      "k=11, C=0.1, kernel=poly - Validation Accuracy: 53.17%\n",
      "k=11, C=1, kernel=linear - Validation Accuracy: 53.78%\n",
      "k=11, C=1, kernel=rbf - Validation Accuracy: 53.58%\n",
      "k=11, C=1, kernel=poly - Validation Accuracy: 52.35%\n",
      "k=11, C=10, kernel=linear - Validation Accuracy: 53.58%\n",
      "k=11, C=10, kernel=rbf - Validation Accuracy: 51.74%\n",
      "k=11, C=10, kernel=poly - Validation Accuracy: 51.94%\n",
      "k=13, C=0.1, kernel=linear - Validation Accuracy: 57.87%\n",
      "k=13, C=0.1, kernel=rbf - Validation Accuracy: 56.24%\n",
      "k=13, C=0.1, kernel=poly - Validation Accuracy: 55.62%\n",
      "k=13, C=1, kernel=linear - Validation Accuracy: 58.49%\n",
      "k=13, C=1, kernel=rbf - Validation Accuracy: 58.49%\n",
      "k=13, C=1, kernel=poly - Validation Accuracy: 57.26%\n",
      "k=13, C=10, kernel=linear - Validation Accuracy: 58.49%\n",
      "k=13, C=10, kernel=rbf - Validation Accuracy: 54.40%\n",
      "k=13, C=10, kernel=poly - Validation Accuracy: 54.81%\n",
      "\n",
      "Best combination:\n",
      "k=13, C=1, kernel=linear with Validation Accuracy: 58.49%\n",
      "Selected feature indices for k=13: [ 0  1  2  3  4  5  6  7  8  9 10 11 12]\n"
     ]
    }
   ],
   "source": [
    "from sklearn.feature_selection import SelectKBest, f_classif\n",
    "from sklearn.svm import SVC\n",
    "from sklearn.preprocessing import StandardScaler\n",
    "from sklearn.metrics import accuracy_score\n",
    "import numpy as np\n",
    "\n",
    "# Step 1: Standardize the features\n",
    "scaler = StandardScaler()\n",
    "train_X_scaled = scaler.fit_transform(train_X_combined)\n",
    "valid_X_scaled = scaler.transform(valid_X_combined)\n",
    "\n",
    "# Step 2: Define a function to perform feature selection and train SVM with different C and kernel\n",
    "def select_features_and_train_svm(k, C, kernel, train_X, train_Y, valid_X, valid_Y):\n",
    "    # Select top k features\n",
    "    selector = SelectKBest(score_func=f_classif, k=k)\n",
    "    train_X_selected = selector.fit_transform(train_X, train_Y)\n",
    "    valid_X_selected = selector.transform(valid_X)\n",
    "    \n",
    "    # Train SVM with specified C and kernel\n",
    "    svm = SVC(C=C, kernel=kernel, random_state=42)  # Regularization parameter C and kernel\n",
    "    svm.fit(train_X_selected, train_Y)\n",
    "    \n",
    "    # Make predictions on the validation set\n",
    "    valid_predictions = svm.predict(valid_X_selected)\n",
    "    \n",
    "    # Calculate accuracy\n",
    "    accuracy = accuracy_score(valid_Y, valid_predictions)\n",
    "    \n",
    "    return accuracy, selector.get_support(indices=True)\n",
    "\n",
    "# Step 3: Iterate over different values of k, C, and kernel and find the best combination\n",
    "best_k = None\n",
    "best_C = None\n",
    "best_kernel = None\n",
    "best_accuracy = 0\n",
    "best_features = None\n",
    "\n",
    "# Define the values of k, C, and kernel to try\n",
    "k_values = range(1, train_X_scaled.shape[1]+1, 2)  # Feature selection steps\n",
    "C_values = [0.1, 1, 10]  # Different regularization values\n",
    "kernels = ['linear', 'rbf', 'poly']  # Different kernel types\n",
    "\n",
    "# Iterate through all combinations of k, C, and kernel\n",
    "for k in k_values:\n",
    "    for C in C_values:\n",
    "        for kernel in kernels:\n",
    "            accuracy, selected_features = select_features_and_train_svm(k, C, kernel, train_X_scaled, train_emoticon_Y, valid_X_scaled, valid_emoticon_Y)\n",
    "            \n",
    "            print(f\"k={k}, C={C}, kernel={kernel} - Validation Accuracy: {accuracy * 100:.2f}%\")\n",
    "            \n",
    "            # Update the best combination if current accuracy is better\n",
    "            if accuracy > best_accuracy:\n",
    "                best_accuracy = accuracy\n",
    "                best_k = k\n",
    "                best_C = C\n",
    "                best_kernel = kernel\n",
    "                best_features = selected_features\n",
    "\n",
    "# Output the best combination found\n",
    "print(f\"\\nBest combination:\")\n",
    "print(f\"k={best_k}, C={best_C}, kernel={best_kernel} with Validation Accuracy: {best_accuracy * 100:.2f}%\")\n",
    "print(f\"Selected feature indices for k={best_k}: {best_features}\")\n"
   ]
  },
  {
   "cell_type": "code",
   "execution_count": 47,
   "metadata": {},
   "outputs": [
    {
     "data": {
      "image/png": "[encoded data removed]",
      "text/plain": [
       "<Figure size 800x600 with 2 Axes>"
      ]
     },
     "metadata": {},
     "output_type": "display_data"
    }
   ],
   "source": [
    "\n",
    "# Step 6: Visualize Confusion Matrix (Optional) \n",
    "from sklearn.metrics import confusion_matrix\n",
    "import matplotlib.pyplot as plt\n",
    "import seaborn as sns\n",
    "conf_matrix = confusion_matrix(valid_emoticon_Y, valid_predictions)\n",
    "plt.figure(figsize=(8, 6))\n",
    "sns.heatmap(conf_matrix, annot=True, fmt='d', cmap='Blues', xticklabels=np.unique(valid_emoticon_Y), yticklabels=np.unique(valid_emoticon_Y))\n",
    "plt.xlabel('Predicted')\n",
    "plt.ylabel('Actual')\n",
    "plt.title('Confusion Matrix')\n",
    "plt.show()\n",
    "\n",
    "\n",
    "\n"
   ]
  },
  {
   "cell_type": "code",
   "execution_count": 48,
   "metadata": {},
   "outputs": [
    {
     "name": "stdout",
     "output_type": "stream",
     "text": [
      "[1, 1, 0, 0, 1, 1, 1, 0, 0, 1, 0, 1, 0, 1, 0, 0, 1, 1, 1, 0, 0, 1, 0, 0, 0, 0, 1, 1, 0, 1, 0, 1, 0, 0, 0, 1, 0, 1, 1, 1, 0, 1, 0, 1, 1, 1, 0, 1, 1, 1, 0, 1, 1, 1, 1, 0, 0, 0, 0, 1, 1, 0, 1, 0, 0, 0, 0, 1, 1, 1, 0, 0, 1, 1, 1, 0, 0, 0, 0, 1, 1, 1, 0, 1, 0, 1, 1, 1, 1, 0, 0, 0, 0, 1, 1, 1, 1, 1, 1, 0, 1, 0, 0, 0, 1, 0, 1, 1, 1, 1, 1, 1, 1, 1, 1, 1, 0, 0, 1, 0, 1, 1, 0, 0, 0, 0, 0, 0, 0, 0, 0, 0, 0, 1, 0, 0, 0, 0, 0, 1, 1, 1, 1, 1, 1, 0, 0, 0, 0, 1, 1, 1, 0, 1, 0, 1, 0, 1, 0, 1, 1, 1, 0, 1, 1, 1, 0, 1, 1, 0, 1, 0, 0, 0, 1, 1, 1, 0, 1, 1, 1, 1, 1, 0, 0, 0, 1, 0, 1, 0, 1, 1, 1, 1, 1, 1, 0, 1, 0, 0, 1, 1, 0, 0, 1, 1, 1, 0, 0, 1, 0, 0, 1, 1, 1, 1, 0, 0, 1, 0, 1, 0, 0, 1, 1, 1, 1, 1, 0, 1, 0, 1, 0, 0, 1, 0, 0, 0, 1, 0, 0, 1, 0, 1, 0, 1, 0, 0, 0, 1, 0, 0, 1, 0, 0, 0, 1, 1, 0, 0, 0, 1, 0, 0, 1, 0, 1, 1, 0, 1, 0, 0, 0, 0, 0, 0, 1, 0, 1, 0, 0, 1, 0, 0, 0, 0, 0, 0, 1, 0, 0, 0, 0, 0, 1, 1, 1, 0, 1, 0, 0, 0, 0, 0, 1, 0, 0, 0, 0, 0, 0, 1, 1, 0, 0, 0, 0, 1, 0, 1, 0, 0, 0, 0, 1, 0, 1, 0, 0, 1, 1, 1, 0, 0, 1, 0, 0, 0, 0, 0, 1, 0, 1, 1, 1, 0, 1, 0, 1, 0, 1, 1, 0, 0, 0, 1, 1, 0, 1, 0, 0, 1, 0, 1, 1, 0, 1, 1, 1, 0, 0, 0, 0, 1, 1, 0, 1, 1, 0, 0, 0, 1, 1, 1, 0, 0, 1, 1, 0, 1, 1, 0, 0, 1, 0, 1, 0, 0, 1, 0, 1, 0, 0, 1, 1, 0, 1, 0, 1, 1, 1, 1, 1, 0, 0, 0, 0, 0, 1, 1, 0, 0, 0, 0, 1, 0, 0, 1, 1, 0, 0, 0, 1, 1, 0, 0, 0, 1, 0, 0, 0, 1, 1, 1, 1, 1, 0, 1, 0, 0, 1, 1, 0, 1, 0, 1, 0, 0, 0, 0, 1, 1, 1, 0, 1, 0, 0, 1, 1, 1, 1, 0, 1, 1, 0, 1, 0, 1, 1, 1, 1, 1, 1, 1, 1, 0, 0, 0, 0]\n",
      "[0 1 1 1 0 1 0 0 1 0 1 0 1 0 0 1 0 1 1 1 1 0 0 0 1 0 0 0 1 0 0 1 0 0 1 0 1\n",
      " 1 1 1 1 1 0 0 0 1 0 1 1 0 1 1 0 1 0 1 0 0 1 1 0 0 1 0 0 1 0 1 0 0 1 1 1 1\n",
      " 1 1 0 1 0 1 0 1 0 1 0 1 1 1 1 1 1 0 1 0 0 1 0 0 1 1 1 0 0 1 0 0 0 0 0 0 0\n",
      " 1 1 0 1 1 1 1 1 0 1 1 1 0 0 0 1 0 1 1 0 0 1 0 0 0 0 0 0 1 0 0 1 0 0 1 1 0\n",
      " 1 1 1 0 0 0 1 0 0 1 1 1 0 0 0 0 1 0 0 0 1 1 0 0 0 0 0 0 1 1 0 1 0 1 1 0 1\n",
      " 0 1 0 1 0 0 0 0 0 1 1 0 1 1 0 0 0 0 0 0 0 1 0 1 0 0 1 0 1 1 1 1 1 0 0 1 1\n",
      " 1 0 0 0 1 1 0 0 1 1 1 1 1 0 0 0 1 1 0 1 1 0 1 0 1 1 1 0 1 0 0 0 0 1 0 1 0\n",
      " 0 1 1 1 0 1 0 0 0 1 1 0 0 0 0 0 0 1 1 0 0 0 1 1 0 1 1 1 1 1 1 0 1 1 0 1 1\n",
      " 1 1 1 0 1 1 1 1 1 0 0 0 0 0 1 1 1 0 1 1 1 1 1 0 0 1 1 1 1 1 1 1 0 0 0 0 0\n",
      " 0 0 0 1 1 0 1 0 1 1 1 0 0 0 1 0 1 0 1 0 1 1 1 0 1 0 0 0 1 1 0 0 1 1 0 1 0\n",
      " 1 1 1 1 1 1 1 0 0 0 0 1 1 0 1 0 0 1 0 1 1 0 0 1 0 1 0 1 1 1 0 1 1 1 1 0 1\n",
      " 1 1 1 0 0 1 1 1 0 0 1 0 1 0 1 1 1 1 0 0 0 1 0 0 0 1 0 1 1 0 0 0 0 0 1 1 1\n",
      " 1 1 0 1 0 0 0 1 1 1 1 1 0 0 0 0 0 0 1 0 1 1 0 0 0 1 0 1 0 0 1 1 0 1 0 1 1\n",
      " 0 1 1 1 1 0 1 1]\n"
     ]
    }
   ],
   "source": [
    "print(valid_Y)\n",
    "print(valid_predictions)"
   ]
  },
  {
   "cell_type": "code",
   "execution_count": null,
   "metadata": {},
   "outputs": [],
   "source": []
  }
 ],
 "metadata": {
  "kernelspec": {
   "display_name": "base",
   "language": "python",
   "name": "python3"
  },
  "language_info": {
   "codemirror_mode": {
    "name": "ipython",
    "version": 3
   },
   "file_extension": ".py",
   "mimetype": "text/x-python",
   "name": "python",
   "nbconvert_exporter": "python",
   "pygments_lexer": "ipython3",
   "version": "3.11.5"
  }
 },
 "nbformat": 4,
 "nbformat_minor": 2
}
