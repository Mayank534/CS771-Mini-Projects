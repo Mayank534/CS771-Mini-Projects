{
 "cells": [
  {
   "cell_type": "code",
   "execution_count": 1,
   "metadata": {},
   "outputs": [
    {
     "name": "stdout",
     "output_type": "stream",
     "text": [
      "Train dataset size: \n",
      "train_emoticon_X: 7080 train_emoticon_Y: 7080\n",
      "\n",
      "Test dataset size: \n",
      "test_emoticon_X: 2232\n"
     ]
    }
   ],
   "source": [
    "import pandas as pd\n",
    "import numpy as np\n",
    "\n",
    "# read emoticon dataset\n",
    "train_emoticon_df = pd.read_csv(\"datasets/train/train_emoticon.csv\")\n",
    "train_emoticon_X = train_emoticon_df['input_emoticon'].tolist()\n",
    "train_emoticon_Y = train_emoticon_df['label'].tolist()\n",
    "\n",
    "test_emoticon_X = pd.read_csv(\"datasets/test/test_emoticon.csv\")['input_emoticon'].tolist()\n",
    "\n",
    "test_feat_X = np.load(\"datasets/test/test_feature.npz\", allow_pickle=True)['features']\n",
    "\n",
    "\n",
    "print(f\"Train dataset size: \")\n",
    "print(f\"train_emoticon_X: {len(train_emoticon_X)} train_emoticon_Y: {len(train_emoticon_Y)}\")\n",
    "\n",
    "\n",
    "print()\n",
    "print(\"Test dataset size: \")\n",
    "print(f\"test_emoticon_X: {len(test_emoticon_X)}\")\n"
   ]
  },
  {
   "cell_type": "code",
   "execution_count": 2,
   "metadata": {},
   "outputs": [
    {
     "name": "stdout",
     "output_type": "stream",
     "text": [
      "Validation dataset size: \n",
      "valid_emoticon_X: 489 valid_emoticon_Y: 489\n",
      "\n",
      "Test dataset size: \n",
      "test_emoticon_X: 2232\n"
     ]
    }
   ],
   "source": [
    "import pandas as pd\n",
    "import numpy as np\n",
    "\n",
    "# Read emoticon dataset\n",
    "valid_emoticon_df = pd.read_csv(\"datasets/valid/valid_emoticon.csv\")\n",
    "valid_emoticon_X = valid_emoticon_df['input_emoticon'].tolist()\n",
    "valid_emoticon_Y = valid_emoticon_df['label'].tolist()\n",
    "\n",
    "test_emoticon_X = pd.read_csv(\"datasets/test/test_emoticon.csv\")['input_emoticon'].tolist()\n",
    "\n",
    "\n",
    "print(f\"Validation dataset size: \")\n",
    "print(f\"valid_emoticon_X: {len(valid_emoticon_X)} valid_emoticon_Y: {len(valid_emoticon_Y)}\")\n",
    "\n",
    "\n",
    "print()\n",
    "print(\"Test dataset size: \")\n",
    "print(f\"test_emoticon_X: {len(test_emoticon_X)}\")\n",
    "\n"
   ]
  },
  {
   "cell_type": "code",
   "execution_count": 3,
   "metadata": {},
   "outputs": [
    {
     "name": "stdout",
     "output_type": "stream",
     "text": [
      "\n",
      "Sample Encoded Train Emoticon Data:  [[2 9 4 0 3 5 6 8 1 7 0 6 3]\n",
      " [9 0 3 1 8 5 2 7 0 5 4 2 6]]\n",
      "Sample Encoded Test Emoticon Data:  [array([ 9,  2,  0,  4,  8, -1, -1,  1,  5,  4, -1,  0,  2]), array([ 2, -1,  9, -1,  1,  4,  8,  0,  5,  2, -1,  0,  4])]\n"
     ]
    }
   ],
   "source": [
    "from sklearn.preprocessing import LabelEncoder\n",
    "# 4. Label Encoding for Emoticon Dataset\n",
    "# Flatten emoticons (split each string into individual characters)\n",
    "train_emoticon_X_flattened = [list(emoticon) for emoticon in train_emoticon_X]\n",
    "test_emoticon_X_flattened = [list(emoticon) for emoticon in test_emoticon_X]\n",
    "\n",
    "# Initialize label encoder\n",
    "label_encoder = LabelEncoder()\n",
    "\n",
    "# Encode each emoticon character into integers for training data\n",
    "train_emoticon_X_encoded = [label_encoder.fit_transform(emoticon) for emoticon in train_emoticon_X_flattened]\n",
    "def safe_transform(emoticon, label_encoder):\n",
    "    # Get the classes learned by the LabelEncoder\n",
    "    known_classes = set(label_encoder.classes_)\n",
    "    \n",
    "    # Return transformed values, and map unseen labels to -1\n",
    "    return np.array([label_encoder.transform([char])[0] if char in known_classes else -1 for char in emoticon])\n",
    "\n",
    "# Apply safe transformation on the test data\n",
    "test_emoticon_X_encoded = [safe_transform(emoticon, label_encoder) for emoticon in test_emoticon_X_flattened]\n",
    "# Convert to NumPy arrays for model training\n",
    "train_emoticon_X_encoded = np.array(train_emoticon_X_encoded)\n",
    "# test_emoticon_X_encoded = np.array(test_emoticon_X_encoded)\n",
    "\n",
    "# Verify that the emoticon data is encoded\n",
    "print(\"\\nSample Encoded Train Emoticon Data: \", train_emoticon_X_encoded[:2])\n",
    "print(\"Sample Encoded Test Emoticon Data: \", test_emoticon_X_encoded[:2])\n",
    "\n",
    "# Now, your datasets `train_emoticon_X_encoded`, `train_seq_X`, and `train_feat_X` are ready for training models."
   ]
  },
  {
   "cell_type": "code",
   "execution_count": 4,
   "metadata": {},
   "outputs": [
    {
     "name": "stdout",
     "output_type": "stream",
     "text": [
      "\n",
      "Sample Encoded Valid Emoticon Data:  [[8 2 1 0 3 7 4 9 5 0 3 4 6]\n",
      " [9 3 4 2 6 5 1 8 1 5 3 7 0]]\n",
      "Sample Encoded Test Emoticon Data:  [array([ 9,  4,  2,  5,  8, -1, -1,  3,  6,  5, -1,  2,  4]), array([ 4, -1,  9, -1,  3,  5,  8,  2,  6,  4, -1,  2,  5])]\n"
     ]
    }
   ],
   "source": [
    "from sklearn.preprocessing import LabelEncoder\n",
    "import numpy as np\n",
    "\n",
    "# 4. Label Encoding for Emoticon Dataset\n",
    "# Flatten emoticons (split each string into individual characters)\n",
    "valid_emoticon_X_flattened = [list(emoticon) for emoticon in valid_emoticon_X]\n",
    "\n",
    "# Initialize label encoder\n",
    "label_encoder = LabelEncoder()\n",
    "\n",
    "# Encode each emoticon character into integers for training data\n",
    "valid_emoticon_X_encoded = [label_encoder.fit_transform(emoticon) for emoticon in valid_emoticon_X_flattened]\n",
    "\n",
    "def safe_transform(emoticon, label_encoder):\n",
    "    # Get the classes learned by the LabelEncoder\n",
    "    known_classes = set(label_encoder.classes_)\n",
    "    \n",
    "    # Return transformed values, and map unseen labels to -1\n",
    "    return np.array([label_encoder.transform([char])[0] if char in known_classes else -1 for char in emoticon])\n",
    "\n",
    "# Apply safe transformation on the test data\n",
    "test_emoticon_X_encoded = [safe_transform(emoticon, label_encoder) for emoticon in test_emoticon_X_flattened]\n",
    "\n",
    "# Convert to NumPy arrays for model training\n",
    "valid_emoticon_X_encoded = np.array(valid_emoticon_X_encoded)\n",
    "\n",
    "# Verify that the emoticon data is encoded\n",
    "print(\"\\nSample Encoded Valid Emoticon Data: \", valid_emoticon_X_encoded[:2])\n",
    "print(\"Sample Encoded Test Emoticon Data: \", test_emoticon_X_encoded[:2])\n",
    "\n",
    "# Now, your datasets `valid_emoticon_X_encoded`, `valid_seq_X`, and `valid_feat_X` are ready for training models.\n"
   ]
  },
  {
   "cell_type": "code",
   "execution_count": 5,
   "metadata": {},
   "outputs": [],
   "source": [
    "# from sklearn.feature_extraction.text import TfidfVectorizer\n",
    "\n",
    "# # Initialize the TF-IDF vectorizer\n",
    "# tfidf_vectorizer = TfidfVectorizer(max_features=400)  # max_features limits the number of features\n",
    "\n",
    "# # Fit and transform on the training text sequences\n",
    "# train_seq_X_tfidf = tfidf_vectorizer.fit_transform(train_seq_X).toarray()\n",
    "\n",
    "# # Transform the test text sequences\n",
    "# test_seq_X_tfidf = tfidf_vectorizer.transform(test_seq_X).toarray()\n",
    "\n",
    "# print(f\"TF-IDF train shape: {train_seq_X_tfidf.shape}\")\n",
    "# print(f\"TF-IDF test shape: {test_seq_X_tfidf.shape}\")\n"
   ]
  },
  {
   "cell_type": "code",
   "execution_count": 6,
   "metadata": {},
   "outputs": [],
   "source": [
    "# from sklearn.feature_extraction.text import TfidfVectorizer\n",
    "\n",
    "# # Initialize the TF-IDF vectorizer\n",
    "# tfidf_vectorizer = TfidfVectorizer(max_features=500)  # max_features limits the number of features\n",
    "\n",
    "# Fit and transform on the training text sequences\n",
    "# valid_seq_X_tfidf = tfidf_vectorizer.fit_transform(valid_seq_X).toarray()\n",
    "\n",
    "\n",
    "\n",
    "# print(f\"TF-IDF valid shape: {valid_seq_X_tfidf.shape}\")\n",
    "# print(f\"TF-IDF test shape: {test_seq_X_tfidf.shape}\")\n"
   ]
  },
  {
   "cell_type": "code",
   "execution_count": 7,
   "metadata": {},
   "outputs": [],
   "source": [
    "# train_feat_X_flattened = train_feat_X.reshape(train_feat_X.shape[0], -1)  # Shape will be (7080, 13 * 768)\n",
    "# test_feat_X_flattened = test_feat_X.reshape(test_feat_X.shape[0], -1)  # Adjust for test set\n"
   ]
  },
  {
   "cell_type": "code",
   "execution_count": 8,
   "metadata": {},
   "outputs": [],
   "source": [
    "# valid_feat_X_flattened = valid_feat_X.reshape(valid_feat_X.shape[0], -1) "
   ]
  },
  {
   "cell_type": "code",
   "execution_count": 9,
   "metadata": {},
   "outputs": [
    {
     "name": "stdout",
     "output_type": "stream",
     "text": [
      "train_emoticon_X_encoded shape: (7080, 13)\n",
      "valid_emoticon_X_encoded shape: (489, 13)\n"
     ]
    }
   ],
   "source": [
    "print(f\"train_emoticon_X_encoded shape: {train_emoticon_X_encoded.shape}\")\n",
    "# print(f\"train_seq_X_tfidf shape: {train_seq_X_tfidf.shape}\")\n",
    "# print(f\"train_feat_X shape: {train_feat_X.shape}\")\n",
    "print(f\"valid_emoticon_X_encoded shape: {valid_emoticon_X_encoded.shape}\")\n",
    "# print(f\"valid_seq_X_tfidf shape: {valid_seq_X_tfidf.shape}\")\n",
    "# print(f\"valid_feat_X shape: {valid_feat_X.shape}\")"
   ]
  },
  {
   "cell_type": "code",
   "execution_count": 10,
   "metadata": {},
   "outputs": [
    {
     "name": "stdout",
     "output_type": "stream",
     "text": [
      "Emoticon training data shape: (7080, 13)\n",
      "Emoticon valid data shape: (489, 13)\n"
     ]
    }
   ],
   "source": [
    "print(f\"Emoticon training data shape: {train_emoticon_X_encoded.shape}\")\n",
    "# print(f\"Sequence training data shape: {train_seq_X_tfidf.shape}\")\n",
    "# print(f\"Feature training data shape: {train_feat_X_flattened.shape}\")\n",
    "print(f\"Emoticon valid data shape: {valid_emoticon_X_encoded.shape}\")\n",
    "# print(f\"Sequence valid data shape: {valid_seq_X_tfidf.shape}\")\n",
    "# print(f\"Feature valid data shape: {valid_feat_X_flattened.shape}\")\n"
   ]
  },
  {
   "cell_type": "code",
   "execution_count": 11,
   "metadata": {},
   "outputs": [],
   "source": [
    "# Combine all features for training\n",
    "# train_X_combined = np.hstack([train_emoticon_X_encoded, train_seq_X_tfidf, train_feat_X_flattened])\n",
    "\n",
    "# # Combine all features for testing\n",
    "# test_X_combined = np.hstack([test_emoticon_X_encoded, test_seq_X_tfidf, test_feat_X_flattened])\n",
    "\n",
    "# print(f\"Combined train shape: {train_X_combined.shape}\")  # Should be (7080, 10497)\n",
    "# print(f\"Combined test shape: {test_X_combined.shape}\")\n",
    "train_X_combined=train_emoticon_X_encoded\n"
   ]
  },
  {
   "cell_type": "code",
   "execution_count": 12,
   "metadata": {},
   "outputs": [
    {
     "name": "stdout",
     "output_type": "stream",
     "text": [
      "Combined valid shape: (489, 13)\n"
     ]
    }
   ],
   "source": [
    "# valid_X_combined = np.hstack([valid_emoticon_X_encoded, valid_seq_X_tfidf, valid_feat_X_flattened])\n",
    "valid_X_combined = valid_emoticon_X_encoded\n",
    "print(f\"Combined valid shape: {valid_X_combined.shape}\") "
   ]
  },
  {
   "cell_type": "code",
   "execution_count": 13,
   "metadata": {},
   "outputs": [
    {
     "name": "stdout",
     "output_type": "stream",
     "text": [
      "7080\n",
      "489\n"
     ]
    }
   ],
   "source": [
    "print(len(train_emoticon_Y))\n",
    "# print(len(train_feat_Y))\n",
    "print(len(valid_emoticon_Y))\n",
    "# print(len(valid_feat_Y))"
   ]
  },
  {
   "cell_type": "code",
   "execution_count": 14,
   "metadata": {},
   "outputs": [
    {
     "name": "stdout",
     "output_type": "stream",
     "text": [
      "Train combined shape: (7080, 13)\n",
      "Valid combined shape: (489, 13)\n"
     ]
    }
   ],
   "source": [
    "print(f\"Train combined shape: {train_X_combined.shape}\")\n",
    "print(f\"Valid combined shape: {valid_X_combined.shape}\")\n"
   ]
  },
  {
   "cell_type": "code",
   "execution_count": 15,
   "metadata": {},
   "outputs": [],
   "source": [
    "test_emoticon_df = pd.read_csv(\"datasets/test/test_emoticon.csv\")\n",
    "# test_emoticon_Y= test_emoticon_df['label'].tolist()\n"
   ]
  },
  {
   "cell_type": "code",
   "execution_count": 18,
   "metadata": {},
   "outputs": [
    {
     "ename": "ValueError",
     "evalue": "k should be <= n_features = 13; got 400. Use k='all' to return all features.",
     "output_type": "error",
     "traceback": [
      "\u001b[1;31m---------------------------------------------------------------------------\u001b[0m",
      "\u001b[1;31mValueError\u001b[0m                                Traceback (most recent call last)",
      "Cell \u001b[1;32mIn[18], line 21\u001b[0m\n\u001b[0;32m     19\u001b[0m k \u001b[38;5;241m=\u001b[39m \u001b[38;5;241m400\u001b[39m  \u001b[38;5;66;03m# Adjust the number of features you want to select\u001b[39;00m\n\u001b[0;32m     20\u001b[0m selector \u001b[38;5;241m=\u001b[39m SelectKBest(score_func\u001b[38;5;241m=\u001b[39mf_classif, k\u001b[38;5;241m=\u001b[39mk)\n\u001b[1;32m---> 21\u001b[0m train_X_selected \u001b[38;5;241m=\u001b[39m selector\u001b[38;5;241m.\u001b[39mfit_transform(train_X_scaled, train_emoticon_Y)\n\u001b[0;32m     22\u001b[0m valid_X_selected \u001b[38;5;241m=\u001b[39m selector\u001b[38;5;241m.\u001b[39mtransform(valid_X_scaled)\n\u001b[0;32m     24\u001b[0m \u001b[38;5;66;03m# Step 3: Train Logistic Regression on Selected Features\u001b[39;00m\n",
      "File \u001b[1;32mc:\\Users\\DELL\\anaconda3\\Lib\\site-packages\\sklearn\\utils\\_set_output.py:140\u001b[0m, in \u001b[0;36m_wrap_method_output.<locals>.wrapped\u001b[1;34m(self, X, *args, **kwargs)\u001b[0m\n\u001b[0;32m    138\u001b[0m \u001b[38;5;129m@wraps\u001b[39m(f)\n\u001b[0;32m    139\u001b[0m \u001b[38;5;28;01mdef\u001b[39;00m \u001b[38;5;21mwrapped\u001b[39m(\u001b[38;5;28mself\u001b[39m, X, \u001b[38;5;241m*\u001b[39margs, \u001b[38;5;241m*\u001b[39m\u001b[38;5;241m*\u001b[39mkwargs):\n\u001b[1;32m--> 140\u001b[0m     data_to_wrap \u001b[38;5;241m=\u001b[39m f(\u001b[38;5;28mself\u001b[39m, X, \u001b[38;5;241m*\u001b[39margs, \u001b[38;5;241m*\u001b[39m\u001b[38;5;241m*\u001b[39mkwargs)\n\u001b[0;32m    141\u001b[0m     \u001b[38;5;28;01mif\u001b[39;00m \u001b[38;5;28misinstance\u001b[39m(data_to_wrap, \u001b[38;5;28mtuple\u001b[39m):\n\u001b[0;32m    142\u001b[0m         \u001b[38;5;66;03m# only wrap the first output for cross decomposition\u001b[39;00m\n\u001b[0;32m    143\u001b[0m         return_tuple \u001b[38;5;241m=\u001b[39m (\n\u001b[0;32m    144\u001b[0m             _wrap_data_with_container(method, data_to_wrap[\u001b[38;5;241m0\u001b[39m], X, \u001b[38;5;28mself\u001b[39m),\n\u001b[0;32m    145\u001b[0m             \u001b[38;5;241m*\u001b[39mdata_to_wrap[\u001b[38;5;241m1\u001b[39m:],\n\u001b[0;32m    146\u001b[0m         )\n",
      "File \u001b[1;32mc:\\Users\\DELL\\anaconda3\\Lib\\site-packages\\sklearn\\base.py:918\u001b[0m, in \u001b[0;36mTransformerMixin.fit_transform\u001b[1;34m(self, X, y, **fit_params)\u001b[0m\n\u001b[0;32m    915\u001b[0m     \u001b[38;5;28;01mreturn\u001b[39;00m \u001b[38;5;28mself\u001b[39m\u001b[38;5;241m.\u001b[39mfit(X, \u001b[38;5;241m*\u001b[39m\u001b[38;5;241m*\u001b[39mfit_params)\u001b[38;5;241m.\u001b[39mtransform(X)\n\u001b[0;32m    916\u001b[0m \u001b[38;5;28;01melse\u001b[39;00m:\n\u001b[0;32m    917\u001b[0m     \u001b[38;5;66;03m# fit method of arity 2 (supervised transformation)\u001b[39;00m\n\u001b[1;32m--> 918\u001b[0m     \u001b[38;5;28;01mreturn\u001b[39;00m \u001b[38;5;28mself\u001b[39m\u001b[38;5;241m.\u001b[39mfit(X, y, \u001b[38;5;241m*\u001b[39m\u001b[38;5;241m*\u001b[39mfit_params)\u001b[38;5;241m.\u001b[39mtransform(X)\n",
      "File \u001b[1;32mc:\\Users\\DELL\\anaconda3\\Lib\\site-packages\\sklearn\\base.py:1151\u001b[0m, in \u001b[0;36m_fit_context.<locals>.decorator.<locals>.wrapper\u001b[1;34m(estimator, *args, **kwargs)\u001b[0m\n\u001b[0;32m   1144\u001b[0m     estimator\u001b[38;5;241m.\u001b[39m_validate_params()\n\u001b[0;32m   1146\u001b[0m \u001b[38;5;28;01mwith\u001b[39;00m config_context(\n\u001b[0;32m   1147\u001b[0m     skip_parameter_validation\u001b[38;5;241m=\u001b[39m(\n\u001b[0;32m   1148\u001b[0m         prefer_skip_nested_validation \u001b[38;5;129;01mor\u001b[39;00m global_skip_validation\n\u001b[0;32m   1149\u001b[0m     )\n\u001b[0;32m   1150\u001b[0m ):\n\u001b[1;32m-> 1151\u001b[0m     \u001b[38;5;28;01mreturn\u001b[39;00m fit_method(estimator, \u001b[38;5;241m*\u001b[39margs, \u001b[38;5;241m*\u001b[39m\u001b[38;5;241m*\u001b[39mkwargs)\n",
      "File \u001b[1;32mc:\\Users\\DELL\\anaconda3\\Lib\\site-packages\\sklearn\\feature_selection\\_univariate_selection.py:502\u001b[0m, in \u001b[0;36m_BaseFilter.fit\u001b[1;34m(self, X, y)\u001b[0m\n\u001b[0;32m    482\u001b[0m \u001b[38;5;250m\u001b[39m\u001b[38;5;124;03m\"\"\"Run score function on (X, y) and get the appropriate features.\u001b[39;00m\n\u001b[0;32m    483\u001b[0m \n\u001b[0;32m    484\u001b[0m \u001b[38;5;124;03mParameters\u001b[39;00m\n\u001b[1;32m   (...)\u001b[0m\n\u001b[0;32m    496\u001b[0m \u001b[38;5;124;03m    Returns the instance itself.\u001b[39;00m\n\u001b[0;32m    497\u001b[0m \u001b[38;5;124;03m\"\"\"\u001b[39;00m\n\u001b[0;32m    498\u001b[0m X, y \u001b[38;5;241m=\u001b[39m \u001b[38;5;28mself\u001b[39m\u001b[38;5;241m.\u001b[39m_validate_data(\n\u001b[0;32m    499\u001b[0m     X, y, accept_sparse\u001b[38;5;241m=\u001b[39m[\u001b[38;5;124m\"\u001b[39m\u001b[38;5;124mcsr\u001b[39m\u001b[38;5;124m\"\u001b[39m, \u001b[38;5;124m\"\u001b[39m\u001b[38;5;124mcsc\u001b[39m\u001b[38;5;124m\"\u001b[39m], multi_output\u001b[38;5;241m=\u001b[39m\u001b[38;5;28;01mTrue\u001b[39;00m\n\u001b[0;32m    500\u001b[0m )\n\u001b[1;32m--> 502\u001b[0m \u001b[38;5;28mself\u001b[39m\u001b[38;5;241m.\u001b[39m_check_params(X, y)\n\u001b[0;32m    503\u001b[0m score_func_ret \u001b[38;5;241m=\u001b[39m \u001b[38;5;28mself\u001b[39m\u001b[38;5;241m.\u001b[39mscore_func(X, y)\n\u001b[0;32m    504\u001b[0m \u001b[38;5;28;01mif\u001b[39;00m \u001b[38;5;28misinstance\u001b[39m(score_func_ret, (\u001b[38;5;28mlist\u001b[39m, \u001b[38;5;28mtuple\u001b[39m)):\n",
      "File \u001b[1;32mc:\\Users\\DELL\\anaconda3\\Lib\\site-packages\\sklearn\\feature_selection\\_univariate_selection.py:703\u001b[0m, in \u001b[0;36mSelectKBest._check_params\u001b[1;34m(self, X, y)\u001b[0m\n\u001b[0;32m    701\u001b[0m \u001b[38;5;28;01mdef\u001b[39;00m \u001b[38;5;21m_check_params\u001b[39m(\u001b[38;5;28mself\u001b[39m, X, y):\n\u001b[0;32m    702\u001b[0m     \u001b[38;5;28;01mif\u001b[39;00m \u001b[38;5;129;01mnot\u001b[39;00m \u001b[38;5;28misinstance\u001b[39m(\u001b[38;5;28mself\u001b[39m\u001b[38;5;241m.\u001b[39mk, \u001b[38;5;28mstr\u001b[39m) \u001b[38;5;129;01mand\u001b[39;00m \u001b[38;5;28mself\u001b[39m\u001b[38;5;241m.\u001b[39mk \u001b[38;5;241m>\u001b[39m X\u001b[38;5;241m.\u001b[39mshape[\u001b[38;5;241m1\u001b[39m]:\n\u001b[1;32m--> 703\u001b[0m         \u001b[38;5;28;01mraise\u001b[39;00m \u001b[38;5;167;01mValueError\u001b[39;00m(\n\u001b[0;32m    704\u001b[0m             \u001b[38;5;124mf\u001b[39m\u001b[38;5;124m\"\u001b[39m\u001b[38;5;124mk should be <= n_features = \u001b[39m\u001b[38;5;132;01m{\u001b[39;00mX\u001b[38;5;241m.\u001b[39mshape[\u001b[38;5;241m1\u001b[39m]\u001b[38;5;132;01m}\u001b[39;00m\u001b[38;5;124m; \u001b[39m\u001b[38;5;124m\"\u001b[39m\n\u001b[0;32m    705\u001b[0m             \u001b[38;5;124mf\u001b[39m\u001b[38;5;124m\"\u001b[39m\u001b[38;5;124mgot \u001b[39m\u001b[38;5;132;01m{\u001b[39;00m\u001b[38;5;28mself\u001b[39m\u001b[38;5;241m.\u001b[39mk\u001b[38;5;132;01m}\u001b[39;00m\u001b[38;5;124m. Use k=\u001b[39m\u001b[38;5;124m'\u001b[39m\u001b[38;5;124mall\u001b[39m\u001b[38;5;124m'\u001b[39m\u001b[38;5;124m to return all features.\u001b[39m\u001b[38;5;124m\"\u001b[39m\n\u001b[0;32m    706\u001b[0m         )\n",
      "\u001b[1;31mValueError\u001b[0m: k should be <= n_features = 13; got 400. Use k='all' to return all features."
     ]
    }
   ],
   "source": [
    "from sklearn.cluster import KMeans\n",
    "from sklearn.metrics.pairwise import euclidean_distances\n",
    "import numpy as np\n",
    "\n",
    "# Use valid_emoticon_Y as valid_Y\n",
    "valid_Y = valid_emoticon_Y\n",
    "\n",
    "from sklearn.linear_model import LogisticRegression\n",
    "from sklearn.metrics import accuracy_score, classification_report\n",
    "from sklearn.preprocessing import StandardScaler\n",
    "import numpy as np\n",
    "\n",
    "# Assuming your dataset is already split and loaded\n",
    "# train_X_combined, valid_X_combined, train_emoticon_Y, valid_emoticon_Y\n",
    "\n",
    "# Step 1: Preprocess Data (Scaling is important for Logistic Regression)\n",
    "scaler = StandardScaler()\n",
    "train_X_scaled = scaler.fit_transform(train_X_combined)\n",
    "valid_X_scaled = scaler.transform(valid_X_combined)\n",
    "\n",
    "# Step 2: Initialize and Train the Logistic Regression Model\n",
    "logreg = LogisticRegression(max_iter=1000, random_state=42)\n",
    "logreg.fit(train_X_scaled, train_emoticon_Y)\n",
    "\n",
    "# Step 3: Make Predictions on the Validation Set\n",
    "valid_predictions = logreg.predict(valid_X_scaled)\n",
    "\n",
    "# Step 4: Evaluate Model Performance\n",
    "accuracy = accuracy_score(valid_emoticon_Y, valid_predictions)\n",
    "print(f\"Validation Accuracy: {accuracy * 100:.2f}%\")\n",
    "\n",
    "# Step 5: Detailed Classification Report\n",
    "print(\"\\nClassification Report:\\n\", classification_report(valid_emoticon_Y, valid_predictions))\n"
   ]
  },
  {
   "cell_type": "code",
   "execution_count": 16,
   "metadata": {},
   "outputs": [
    {
     "name": "stdout",
     "output_type": "stream",
     "text": [
      "Validation Accuracy: 59.10%\n",
      "\n",
      "Classification Report:\n",
      "               precision    recall  f1-score   support\n",
      "\n",
      "           0       0.60      0.62      0.61       252\n",
      "           1       0.58      0.56      0.57       237\n",
      "\n",
      "    accuracy                           0.59       489\n",
      "   macro avg       0.59      0.59      0.59       489\n",
      "weighted avg       0.59      0.59      0.59       489\n",
      "\n"
     ]
    },
    {
     "data": {
      "image/png": "[encoded data removed]",
      "text/plain": [
       "<Figure size 800x600 with 2 Axes>"
      ]
     },
     "metadata": {},
     "output_type": "display_data"
    }
   ],
   "source": [
    "\n",
    "# Step 6: Visualize Confusion Matrix (Optional) \n",
    "from sklearn.metrics import confusion_matrix\n",
    "import matplotlib.pyplot as plt\n",
    "import seaborn as sns\n",
    "conf_matrix = confusion_matrix(valid_emoticon_Y, valid_predictions)\n",
    "plt.figure(figsize=(8, 6))\n",
    "sns.heatmap(conf_matrix, annot=True, fmt='d', cmap='Blues', xticklabels=np.unique(valid_emoticon_Y), yticklabels=np.unique(valid_emoticon_Y))\n",
    "plt.xlabel('Predicted')\n",
    "plt.ylabel('Actual')\n",
    "plt.title('Confusion Matrix')\n",
    "plt.show()\n",
    "\n",
    "\n",
    "\n"
   ]
  },
  {
   "cell_type": "code",
   "execution_count": 17,
   "metadata": {},
   "outputs": [
    {
     "name": "stdout",
     "output_type": "stream",
     "text": [
      "[1, 1, 0, 0, 1, 1, 1, 0, 0, 1, 0, 1, 0, 1, 0, 0, 1, 1, 1, 0, 0, 1, 0, 0, 0, 0, 1, 1, 0, 1, 0, 1, 0, 0, 0, 1, 0, 1, 1, 1, 0, 1, 0, 1, 1, 1, 0, 1, 1, 1, 0, 1, 1, 1, 1, 0, 0, 0, 0, 1, 1, 0, 1, 0, 0, 0, 0, 1, 1, 1, 0, 0, 1, 1, 1, 0, 0, 0, 0, 1, 1, 1, 0, 1, 0, 1, 1, 1, 1, 0, 0, 0, 0, 1, 1, 1, 1, 1, 1, 0, 1, 0, 0, 0, 1, 0, 1, 1, 1, 1, 1, 1, 1, 1, 1, 1, 0, 0, 1, 0, 1, 1, 0, 0, 0, 0, 0, 0, 0, 0, 0, 0, 0, 1, 0, 0, 0, 0, 0, 1, 1, 1, 1, 1, 1, 0, 0, 0, 0, 1, 1, 1, 0, 1, 0, 1, 0, 1, 0, 1, 1, 1, 0, 1, 1, 1, 0, 1, 1, 0, 1, 0, 0, 0, 1, 1, 1, 0, 1, 1, 1, 1, 1, 0, 0, 0, 1, 0, 1, 0, 1, 1, 1, 1, 1, 1, 0, 1, 0, 0, 1, 1, 0, 0, 1, 1, 1, 0, 0, 1, 0, 0, 1, 1, 1, 1, 0, 0, 1, 0, 1, 0, 0, 1, 1, 1, 1, 1, 0, 1, 0, 1, 0, 0, 1, 0, 0, 0, 1, 0, 0, 1, 0, 1, 0, 1, 0, 0, 0, 1, 0, 0, 1, 0, 0, 0, 1, 1, 0, 0, 0, 1, 0, 0, 1, 0, 1, 1, 0, 1, 0, 0, 0, 0, 0, 0, 1, 0, 1, 0, 0, 1, 0, 0, 0, 0, 0, 0, 1, 0, 0, 0, 0, 0, 1, 1, 1, 0, 1, 0, 0, 0, 0, 0, 1, 0, 0, 0, 0, 0, 0, 1, 1, 0, 0, 0, 0, 1, 0, 1, 0, 0, 0, 0, 1, 0, 1, 0, 0, 1, 1, 1, 0, 0, 1, 0, 0, 0, 0, 0, 1, 0, 1, 1, 1, 0, 1, 0, 1, 0, 1, 1, 0, 0, 0, 1, 1, 0, 1, 0, 0, 1, 0, 1, 1, 0, 1, 1, 1, 0, 0, 0, 0, 1, 1, 0, 1, 1, 0, 0, 0, 1, 1, 1, 0, 0, 1, 1, 0, 1, 1, 0, 0, 1, 0, 1, 0, 0, 1, 0, 1, 0, 0, 1, 1, 0, 1, 0, 1, 1, 1, 1, 1, 0, 0, 0, 0, 0, 1, 1, 0, 0, 0, 0, 1, 0, 0, 1, 1, 0, 0, 0, 1, 1, 0, 0, 0, 1, 0, 0, 0, 1, 1, 1, 1, 1, 0, 1, 0, 0, 1, 1, 0, 1, 0, 1, 0, 0, 0, 0, 1, 1, 1, 0, 1, 0, 0, 1, 1, 1, 1, 0, 1, 1, 0, 1, 0, 1, 1, 1, 1, 1, 1, 1, 1, 0, 0, 0, 0]\n",
      "[0 1 1 1 1 1 0 0 1 0 0 0 0 1 0 1 0 0 1 0 1 0 0 0 1 0 0 1 0 0 0 1 0 0 1 1 1\n",
      " 1 1 0 1 1 0 0 1 1 1 0 0 0 1 1 0 1 1 0 0 0 0 1 0 1 1 0 0 0 0 1 0 0 1 0 0 1\n",
      " 1 0 0 0 0 1 0 1 0 0 0 1 0 1 1 1 1 0 0 0 1 1 1 0 1 1 1 0 0 1 0 0 0 0 0 0 1\n",
      " 0 1 0 1 1 1 1 1 0 1 1 1 0 0 0 1 0 1 1 0 0 0 0 0 0 0 0 0 1 1 0 1 0 0 1 1 0\n",
      " 1 1 1 0 0 0 0 1 0 1 0 1 0 0 0 0 1 0 0 1 1 0 1 0 1 0 1 0 1 1 0 1 0 1 1 0 1\n",
      " 0 1 1 1 0 0 0 0 0 0 0 0 0 0 0 0 1 0 0 0 0 1 0 0 0 0 1 0 1 1 1 1 0 1 0 1 0\n",
      " 1 0 0 0 0 1 0 0 0 1 0 1 1 0 0 1 1 1 0 1 1 0 1 1 1 0 1 1 1 0 1 0 0 1 0 0 0\n",
      " 0 1 1 0 0 1 0 1 0 1 1 1 0 0 0 0 0 0 0 0 0 1 1 1 0 1 1 1 0 1 0 0 1 1 0 1 1\n",
      " 1 0 1 0 1 0 0 1 1 0 0 0 0 0 0 1 0 1 1 1 1 0 1 0 1 1 1 1 1 1 1 1 1 1 0 0 0\n",
      " 0 0 0 0 1 0 0 0 1 1 1 0 0 1 1 0 0 0 1 0 1 0 1 0 1 0 1 0 1 1 0 1 1 1 0 1 0\n",
      " 1 1 1 1 1 1 0 1 0 0 0 1 1 0 0 0 1 1 1 1 1 0 0 0 0 1 0 0 0 1 0 1 1 0 1 0 1\n",
      " 1 1 0 0 0 1 0 1 0 0 1 0 1 0 1 1 1 1 0 0 1 1 0 0 0 1 0 0 1 0 0 0 0 0 1 1 1\n",
      " 1 0 0 1 0 0 0 1 0 1 0 1 0 0 0 0 1 0 1 0 1 1 1 1 0 0 0 1 0 0 0 1 1 1 1 1 0\n",
      " 0 0 0 1 0 0 1 1]\n"
     ]
    }
   ],
   "source": [
    "print(valid_Y)\n",
    "print(valid_predictions)"
   ]
  },
  {
   "cell_type": "code",
   "execution_count": null,
   "metadata": {},
   "outputs": [],
   "source": []
  }
 ],
 "metadata": {
  "kernelspec": {
   "display_name": "base",
   "language": "python",
   "name": "python3"
  },
  "language_info": {
   "codemirror_mode": {
    "name": "ipython",
    "version": 3
   },
   "file_extension": ".py",
   "mimetype": "text/x-python",
   "name": "python",
   "nbconvert_exporter": "python",
   "pygments_lexer": "ipython3",
   "version": "3.11.5"
  }
 },
 "nbformat": 4,
 "nbformat_minor": 2
}
